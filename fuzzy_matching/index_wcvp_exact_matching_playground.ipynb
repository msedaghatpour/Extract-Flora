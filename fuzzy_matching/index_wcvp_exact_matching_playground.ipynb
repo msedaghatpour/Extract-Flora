{
 "cells": [
  {
   "cell_type": "code",
   "execution_count": null,
   "metadata": {},
   "outputs": [],
   "source": [
    "import pandas as pd\n",
    "import numpy as np\n",
    "import seaborn as sns\n",
    "import matplotlib.pyplot as plt\n",
    "from cProfile import label #?not sure"
   ]
  },
  {
   "cell_type": "code",
   "execution_count": null,
   "metadata": {},
   "outputs": [],
   "source": [
    "#removing space after authors \n",
    "def fix_author(row):\n",
    "    if not isinstance(row, str) or row[-1] != ' ':\n",
    "        return row\n",
    "    return row[:-1]"
   ]
  },
  {
   "cell_type": "code",
   "execution_count": null,
   "metadata": {},
   "outputs": [],
   "source": [
    "#This is path to output csv files of the index of each book with they italicized names filtered out\n",
    "vol1_path = '../input/index_without_itallics_csvs/vol1/vol1_index_pruned.csv'\n",
    "vol2_path = '../input/index_without_itallics_csvs/vol2/vol2_index_pruned.csv'\n",
    "vol3_path = '../input/index_without_itallics_csvs/vol3/vol3_index_pruned.csv'\n",
    "\n",
    "vol1_df = pd.read_csv(vol1_path)\n",
    "vol2_df = pd.read_csv(vol2_path)\n",
    "vol3_df = pd.read_csv(vol3_path)\n",
    "\n",
    "#fix spacing issue\n",
    "vol1_df['author'] = vol1_df['author'].apply(fix_author)\n",
    "vol2_df['author'] = vol2_df['author'].apply(fix_author)\n",
    "vol3_df['author'] = vol3_df['author'].apply(fix_author)\n",
    "\n",
    "#changing name of columns \n",
    "vol1_df.rename(columns={'genus': 'mouterde_genus', 'epithet': 'mouterde_epithet', 'author':'mouterde_author', 'infra':'mouterde_infra'}, inplace=True)\n",
    "vol2_df.rename(columns={'genus': 'mouterde_genus', 'epithet': 'mouterde_epithet', 'author':'mouterde_author', 'infra':'mouterde_infra'}, inplace=True)\n",
    "vol3_df.rename(columns={'genus': 'mouterde_genus', 'epithet': 'mouterde_epithet', 'author':'mouterde_author', 'infra':'mouterde_infra'}, inplace=True)\n",
    "\n",
    "#wcvp \n",
    "text_wcvp_path = '../input/wcvp/wcvp_v9_jun_2022.txt'\n",
    "wcvp_df = pd.read_csv(text_wcvp_path, sep = '|')"
   ]
  },
  {
   "cell_type": "markdown",
   "metadata": {},
   "source": [
    "# PlayGround_1007"
   ]
  },
  {
   "cell_type": "code",
   "execution_count": null,
   "metadata": {},
   "outputs": [],
   "source": [
    "vol1_df"
   ]
  },
  {
   "cell_type": "code",
   "execution_count": null,
   "metadata": {},
   "outputs": [],
   "source": [
    "#concat all index volumes into one #not sure if this is a good idea or bad one should check runtime ... will deal with it later :D"
   ]
  },
  {
   "cell_type": "code",
   "execution_count": null,
   "metadata": {},
   "outputs": [],
   "source": [
    "vol1_df"
   ]
  },
  {
   "cell_type": "code",
   "execution_count": null,
   "metadata": {},
   "outputs": [],
   "source": [
    "new_df = pd.merge(vol1_df, wcvp_df,  how='left', left_on=['mouterde_genus','mouterde_epithet'], right_on = ['genus','species'])"
   ]
  },
  {
   "cell_type": "code",
   "execution_count": null,
   "metadata": {},
   "outputs": [],
   "source": [
    "new_df.shape"
   ]
  },
  {
   "cell_type": "code",
   "execution_count": null,
   "metadata": {},
   "outputs": [],
   "source": [
    "new_df.iloc[:,:17]"
   ]
  },
  {
   "cell_type": "code",
   "execution_count": null,
   "metadata": {},
   "outputs": [],
   "source": [
    "# excluding infra as vol1 doesn't have infra species (need to figure out how to deal with null values here) \n",
    "# Need to drop genus only entries as we don't have genus author for volumes 1 and 2 and can't match them with correct author \n",
    "\n",
    "no_genus_only_no_infra_vol1_df = vol1_df[~((vol1_df['mouterde_epithet']).isnull()) & ((vol1_df['mouterde_infra']).isnull())] \n",
    "no_infra_wcvp_df = wcvp_df[(wcvp_df['infraspecies']).isnull()]\n",
    "species_only_df = pd.merge(no_genus_only_no_infra_vol1_df, no_infra_wcvp_df,  how='inner', \n",
    "                            left_on=['mouterde_genus','mouterde_epithet', 'mouterde_author'], \n",
    "                            right_on = ['genus','species', 'authors'])"
   ]
  },
  {
   "cell_type": "code",
   "execution_count": null,
   "metadata": {},
   "outputs": [],
   "source": [
    "species_only_df['authors'][0]"
   ]
  },
  {
   "cell_type": "code",
   "execution_count": null,
   "metadata": {},
   "outputs": [],
   "source": [
    "species_only_df['mouterde_author'][0]"
   ]
  },
  {
   "cell_type": "code",
   "execution_count": null,
   "metadata": {},
   "outputs": [],
   "source": [
    "species_only_df.iloc[:,5:20]"
   ]
  },
  {
   "cell_type": "code",
   "execution_count": null,
   "metadata": {},
   "outputs": [],
   "source": [
    "#expect to get 0 if everything is matched correctly --- nvm doing something different now \n",
    "vol1_df.shape[0] - vol1_df['mouterde_genus'].unique().shape[0] - species_only_df.shape[0]"
   ]
  },
  {
   "cell_type": "code",
   "execution_count": null,
   "metadata": {},
   "outputs": [],
   "source": [
    "species_only_df[['mouterde_genus', 'mouterde_epithet', 'mouterde_author', 'taxonomic_status', 'genus', 'species', 'authors']]"
   ]
  },
  {
   "cell_type": "code",
   "execution_count": null,
   "metadata": {},
   "outputs": [],
   "source": [
    "with_accepted_name = species_only_df[['mouterde_genus', 'mouterde_epithet', 'mouterde_author', 'taxonomic_status', 'accepted_name', 'accepted_authors']]"
   ]
  },
  {
   "cell_type": "code",
   "execution_count": null,
   "metadata": {},
   "outputs": [],
   "source": [
    "with_accepted_name[with_accepted_name['taxonomic_status'] == 'Synonym']"
   ]
  },
  {
   "cell_type": "code",
   "execution_count": null,
   "metadata": {},
   "outputs": [],
   "source": [
    "species_only_df"
   ]
  },
  {
   "cell_type": "code",
   "execution_count": null,
   "metadata": {},
   "outputs": [],
   "source": []
  },
  {
   "cell_type": "markdown",
   "metadata": {},
   "source": [
    "# Exact Matching"
   ]
  },
  {
   "cell_type": "code",
   "execution_count": null,
   "metadata": {},
   "outputs": [],
   "source": [
    "wcvp_df['infraspecies'].replace(np.nan, 'np.NaN', inplace=True)\n",
    "wcvp_df['species'].replace(np.nan, 'np.NaN', inplace=True)"
   ]
  },
  {
   "cell_type": "markdown",
   "metadata": {},
   "source": [
    "## Vol1 "
   ]
  },
  {
   "cell_type": "code",
   "execution_count": null,
   "metadata": {},
   "outputs": [],
   "source": [
    "vol1_df['mouterde_infra'].replace(np.nan, 'np.NaN', inplace=True)\n",
    "vol1_df['mouterde_epithet'].replace(np.nan, 'np.NaN', inplace=True)\n",
    "\n",
    "vol1_wcvp_df = pd.merge(vol1_df, \n",
    "                        wcvp_df, \n",
    "                        how='inner', \n",
    "                        left_on=['mouterde_genus','mouterde_epithet', 'mouterde_author', 'mouterde_infra'], \n",
    "                        right_on = ['genus','species', 'authors', 'infraspecies'])\n",
    "vol1_wcvp_df.replace('np.NaN', np.nan, inplace=True)"
   ]
  },
  {
   "cell_type": "code",
   "execution_count": null,
   "metadata": {},
   "outputs": [],
   "source": [
    "vol1_wcvp_df_simplified = vol1_wcvp_df[['mouterde_genus', 'mouterde_epithet', 'mouterde_infra', 'mouterde_author', 'taxonomic_status', 'accepted_name', 'accepted_authors']]\n",
    "# output1 = '../output/fuzzy_matching/index/exact_matching/vol1_index_noItalics_wcvp.csv'\n",
    "# vol1_wcvp_df_simplified.to_csv(output1)"
   ]
  },
  {
   "cell_type": "code",
   "execution_count": null,
   "metadata": {},
   "outputs": [],
   "source": [
    "#percentage picked up with exact matching\n",
    "vol1_wcvp_df_simplified.shape[0]/vol1_df.shape[0]"
   ]
  },
  {
   "cell_type": "code",
   "execution_count": null,
   "metadata": {},
   "outputs": [],
   "source": [
    "#percentage of picked up species with exact matching that are accepted \n",
    "#.sum == .value_counts()[True] here\n",
    "(vol1_wcvp_df_simplified['taxonomic_status'] == 'Accepted').sum()/vol1_wcvp_df_simplified.shape[0]"
   ]
  },
  {
   "cell_type": "markdown",
   "metadata": {},
   "source": [
    "## Vol2"
   ]
  },
  {
   "cell_type": "code",
   "execution_count": null,
   "metadata": {},
   "outputs": [],
   "source": [
    "vol2_df['mouterde_infra'].replace(np.nan, 'np.NaN', inplace=True)\n",
    "vol2_df['mouterde_epithet'].replace(np.nan, 'np.NaN', inplace=True)\n",
    "\n",
    "vol2_wcvp_df = pd.merge(vol2_df, \n",
    "                        wcvp_df, \n",
    "                        how='inner', \n",
    "                        left_on=['mouterde_genus','mouterde_epithet', 'mouterde_author', 'mouterde_infra'], \n",
    "                        right_on = ['genus','species', 'authors', 'infraspecies'])\n",
    "vol2_wcvp_df.replace('np.NaN', np.nan, inplace=True)"
   ]
  },
  {
   "cell_type": "code",
   "execution_count": null,
   "metadata": {},
   "outputs": [],
   "source": [
    "vol2_wcvp_df_simplified = vol2_wcvp_df[['mouterde_genus', 'mouterde_epithet', 'mouterde_infra', 'mouterde_author', 'taxonomic_status', 'accepted_name', 'accepted_authors']]\n",
    "output2 = '../output/fuzzy_matching/index/exact_matching/vol2_index_noItalics_wcvp.csv'\n",
    "vol2_wcvp_df_simplified.to_csv(output2)"
   ]
  },
  {
   "cell_type": "code",
   "execution_count": null,
   "metadata": {},
   "outputs": [],
   "source": [
    "#percentage picked up with exact matching\n",
    "vol2_wcvp_df_simplified.shape[0]/vol2_df.shape[0]"
   ]
  },
  {
   "cell_type": "code",
   "execution_count": null,
   "metadata": {},
   "outputs": [],
   "source": [
    "#percentage of picked up species with exact matching that are accepted \n",
    "#.sum == .value_counts()[True] here\n",
    "(vol2_wcvp_df_simplified['taxonomic_status'] == 'Accepted').sum()/vol2_wcvp_df_simplified.shape[0]"
   ]
  },
  {
   "cell_type": "markdown",
   "metadata": {},
   "source": [
    "## Vol3"
   ]
  },
  {
   "cell_type": "code",
   "execution_count": null,
   "metadata": {},
   "outputs": [],
   "source": [
    "vol3_df['mouterde_infra'].replace(np.nan, 'np.NaN', inplace=True)\n",
    "vol3_df['mouterde_epithet'].replace(np.nan, 'np.NaN', inplace=True)\n",
    "\n",
    "vol3_wcvp_df = pd.merge(vol3_df, \n",
    "                        wcvp_df, \n",
    "                        how='inner', \n",
    "                        left_on=['mouterde_genus','mouterde_epithet', 'mouterde_author', 'mouterde_infra'], \n",
    "                        right_on = ['genus','species', 'authors', 'infraspecies'])\n",
    "\n",
    "vol3_wcvp_df.replace('np.NaN', np.nan, inplace=True)"
   ]
  },
  {
   "cell_type": "code",
   "execution_count": null,
   "metadata": {},
   "outputs": [],
   "source": [
    "vol3_wcvp_df_simplified = vol3_wcvp_df[['mouterde_genus', 'mouterde_epithet', 'mouterde_infra', 'mouterde_author', 'taxonomic_status', 'accepted_name', 'accepted_authors']]\n",
    "output3 = '../output/fuzzy_matching/index/exact_matching/vol3_index_noItalics_wcvp.csv'\n",
    "vol3_wcvp_df_simplified.to_csv(output3)"
   ]
  },
  {
   "cell_type": "code",
   "execution_count": null,
   "metadata": {},
   "outputs": [],
   "source": [
    "#percentage picked up with exact matching\n",
    "vol3_wcvp_df_simplified.shape[0]/vol3_df.shape[0]"
   ]
  },
  {
   "cell_type": "code",
   "execution_count": null,
   "metadata": {},
   "outputs": [],
   "source": [
    "#percentage of picked up species with exact matching that are accepted \n",
    "#.sum == .value_counts()[True] here\n",
    "(vol3_wcvp_df_simplified['taxonomic_status'] == 'Accepted').sum()/vol3_wcvp_df_simplified.shape[0]"
   ]
  },
  {
   "cell_type": "markdown",
   "metadata": {},
   "source": [
    "## Exact matiching Graph"
   ]
  },
  {
   "cell_type": "code",
   "execution_count": null,
   "metadata": {},
   "outputs": [],
   "source": [
    "pick_up_rates = [vol1_wcvp_df_simplified.shape[0]/vol1_df.shape[0],\n",
    "                 vol2_wcvp_df_simplified.shape[0]/vol2_df.shape[0],\n",
    "                 vol3_wcvp_df_simplified.shape[0]/vol3_df.shape[0]]\n",
    "accepted_rate = [(vol1_wcvp_df_simplified['taxonomic_status'] == 'Accepted').sum()/vol1_df.shape[0],\n",
    "                 (vol2_wcvp_df_simplified['taxonomic_status'] == 'Accepted').sum()/vol2_df.shape[0],\n",
    "                 (vol3_wcvp_df_simplified['taxonomic_status'] == 'Accepted').sum()/vol3_df.shape[0]]\n",
    "\n",
    "ax = plt.subplots()\n",
    "\n",
    "pastel_blue = sns.color_palette(\"pastel\")[0]\n",
    "pastel_red = sns.color_palette(\"pastel\")[3]\n",
    "\n",
    "ax = sns.barplot(x=['vol1', 'vol2', 'vol3'], y=pick_up_rates, color=pastel_blue, label = 'percentage picked up')\n",
    "ax = sns.barplot(x=['vol1', 'vol2', 'vol3'], y=accepted_rate, color=pastel_red, label = 'percentage accepted')\n",
    "\n",
    "ax.set(xlabel=\"volume\", ylabel=\"percentage\", title = \"performance using exact matching\")\n",
    "\n",
    "plt.legend()\n",
    "plt.show()"
   ]
  },
  {
   "cell_type": "markdown",
   "metadata": {},
   "source": [
    "# Playground 1013"
   ]
  },
  {
   "cell_type": "code",
   "execution_count": null,
   "metadata": {},
   "outputs": [],
   "source": [
    "vol1_df['mouterde_infra'].replace(np.nan, 'np.NaN', inplace=True)\n",
    "vol1_df['mouterde_epithet'].replace(np.nan, 'np.NaN', inplace=True)\n",
    "\n",
    "vol1_wcvp_df = pd.merge(vol1_df, \n",
    "                        wcvp_df, \n",
    "                        how='left', \n",
    "                        left_on=['mouterde_genus','mouterde_epithet', 'mouterde_author', 'mouterde_infra'], \n",
    "                        right_on = ['genus','species', 'authors', 'infraspecies'])\n",
    "vol1_wcvp_df.replace('np.NaN', np.nan, inplace=True)"
   ]
  },
  {
   "cell_type": "code",
   "execution_count": null,
   "metadata": {},
   "outputs": [],
   "source": [
    "vol1_wcvp_df_mismatch = vol1_wcvp_df[(vol1_wcvp_df['kew_id'].isnull()) & ~(vol1_wcvp_df['mouterde_author'].isnull()) ]\n",
    "vol1_wcvp_df_mismatch[['page_num', 'mouterde_genus', 'mouterde_epithet', 'mouterde_infra', 'mouterde_author']]"
   ]
  },
  {
   "cell_type": "code",
   "execution_count": null,
   "metadata": {},
   "outputs": [],
   "source": [
    "wcvp_df['authors'].unique()"
   ]
  },
  {
   "cell_type": "code",
   "execution_count": null,
   "metadata": {},
   "outputs": [],
   "source": [
    "unique_authors = vol1_df[vol1_df['mouterde_author'].notnull()]['mouterde_author'].unique()"
   ]
  },
  {
   "cell_type": "code",
   "execution_count": null,
   "metadata": {},
   "outputs": [],
   "source": [
    "unique_authors.sort()"
   ]
  },
  {
   "cell_type": "code",
   "execution_count": null,
   "metadata": {},
   "outputs": [],
   "source": [
    "unique_authors"
   ]
  },
  {
   "cell_type": "code",
   "execution_count": null,
   "metadata": {},
   "outputs": [],
   "source": []
  },
  {
   "cell_type": "code",
   "execution_count": null,
   "metadata": {},
   "outputs": [],
   "source": [
    "Vulpia\tinops\t(Del.) Hack.\n",
    "Vulpia\tinops \tHack.\n",
    "\n",
    "\n",
    "Vulpia\tmembranacea\t(L.) Link\n",
    "Vulpia\tmembranacea\t(L.) Dumort."
   ]
  },
  {
   "cell_type": "code",
   "execution_count": null,
   "metadata": {},
   "outputs": [],
   "source": [
    "species_only_df_vol1.columns"
   ]
  },
  {
   "cell_type": "code",
   "execution_count": null,
   "metadata": {},
   "outputs": [],
   "source": [
    "vol1_wcvp_df_simplified = vol1_wcvp_df[['mouterde_genus', 'mouterde_epithet', 'mouterde_infra', 'mouterde_author', 'taxonomic_status', 'accepted_name', 'accepted_authors']]\n",
    "output1 = '../output/fuzzy_matching/index/exact_matching/vol1_index_noItalics_wcvp.csv'\n",
    "vol1_wcvp_df_simplified.to_csv(output1)"
   ]
  },
  {
   "cell_type": "code",
   "execution_count": null,
   "metadata": {},
   "outputs": [],
   "source": []
  }
 ],
 "metadata": {
  "kernelspec": {
   "display_name": "Python 3.9.13 64-bit",
   "language": "python",
   "name": "python3"
  },
  "language_info": {
   "codemirror_mode": {
    "name": "ipython",
    "version": 3
   },
   "file_extension": ".py",
   "mimetype": "text/x-python",
   "name": "python",
   "nbconvert_exporter": "python",
   "pygments_lexer": "ipython3",
   "version": "3.10.8"
  },
  "orig_nbformat": 4,
  "vscode": {
   "interpreter": {
    "hash": "b0fa6594d8f4cbf19f97940f81e996739fb7646882a419484c72d19e05852a7e"
   }
  }
 },
 "nbformat": 4,
 "nbformat_minor": 2
}
