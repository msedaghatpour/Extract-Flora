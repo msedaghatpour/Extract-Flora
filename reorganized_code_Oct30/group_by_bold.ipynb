{
 "cells": [
  {
   "cell_type": "code",
   "execution_count": 1,
   "metadata": {},
   "outputs": [],
   "source": [
    "import io\n",
    "import fitz\n",
    "import re\n",
    "from PIL import Image, ImageDraw, ImageFont, ImageColor\n",
    "import operator\n",
    "import pandas as pd \n",
    "import numpy as np\n",
    "from datetime import datetime\n",
    "import math\n",
    "from tqdm import tqdm"
   ]
  },
  {
   "cell_type": "code",
   "execution_count": 3,
   "metadata": {},
   "outputs": [],
   "source": [
    "pdf_dir = \"../input/NOUVELLE FLORE DU LIBAN ET DE LA SYRIE 1.pdf\"\n",
    "doc = fitz.open(pdf_dir)\n",
    "pages = [doc[i] for i in range(doc.page_count)]\n",
    "index = range(616, 639)\n",
    "\n",
    "TARGET_DPI = 300\n",
    "mat = fitz.Matrix(TARGET_DPI/ 72, TARGET_DPI/ 72)"
   ]
  },
  {
   "cell_type": "markdown",
   "metadata": {},
   "source": [
    "whenever text is \n",
    "- bold\n",
    "- first word is all upper case \n",
    "    - need to account for possible extra words"
   ]
  },
  {
   "cell_type": "code",
   "execution_count": 4,
   "metadata": {},
   "outputs": [],
   "source": [
    "def flags_decomposer(flags):\n",
    "    \"\"\"Make font flags human readable.\"\"\"\n",
    "    l = []\n",
    "    if flags & 2 ** 0:\n",
    "        l.append(\"superscript\")\n",
    "    if flags & 2 ** 1:\n",
    "        l.append(\"italic\")\n",
    "    if flags & 2 ** 2:\n",
    "        l.append(\"serifed\")\n",
    "    else:\n",
    "        l.append(\"sans\")\n",
    "    if flags & 2 ** 3:\n",
    "        l.append(\"monospaced\")\n",
    "    else:\n",
    "        l.append(\"proportional\")\n",
    "    if flags & 2 ** 4:\n",
    "        l.append(\"bold\")\n",
    "    return \", \".join(l)"
   ]
  },
  {
   "cell_type": "code",
   "execution_count": 7,
   "metadata": {},
   "outputs": [
    {
     "name": "stdout",
     "output_type": "stream",
     "text": [
      "Rect(110.87999725341797, 127.92001342773438, 344.05267333984375, 139.92001342773438)\n"
     ]
    },
    {
     "ename": "NameError",
     "evalue": "name 'mode' is not defined",
     "output_type": "error",
     "traceback": [
      "\u001b[0;31m---------------------------------------------------------------------------\u001b[0m",
      "\u001b[0;31mNameError\u001b[0m                                 Traceback (most recent call last)",
      "\u001b[1;32m/Users/shidedehghani/Library/Mobile Documents/com~apple~CloudDocs/Research/rLAB/Maryam's_repo/reorganized_code_Oct30/group_by_bold.ipynb Cell 5\u001b[0m in \u001b[0;36m<cell line: 1>\u001b[0;34m()\u001b[0m\n\u001b[1;32m      <a href='vscode-notebook-cell:/Users/shidedehghani/Library/Mobile%20Documents/com~apple~CloudDocs/Research/rLAB/Maryam%27s_repo/reorganized_code_Oct30/group_by_bold.ipynb#ch0000005?line=7'>8</a>\u001b[0m lr \u001b[39m=\u001b[39m fitz\u001b[39m.\u001b[39mRect(l[\u001b[39m\"\u001b[39m\u001b[39mbbox\u001b[39m\u001b[39m\"\u001b[39m])\n\u001b[1;32m      <a href='vscode-notebook-cell:/Users/shidedehghani/Library/Mobile%20Documents/com~apple~CloudDocs/Research/rLAB/Maryam%27s_repo/reorganized_code_Oct30/group_by_bold.ipynb#ch0000005?line=8'>9</a>\u001b[0m \u001b[39mfor\u001b[39;00m z,s \u001b[39min\u001b[39;00m \u001b[39menumerate\u001b[39m(l[\u001b[39m\"\u001b[39m\u001b[39mspans\u001b[39m\u001b[39m\"\u001b[39m]):  \u001b[39m# iterate through the text spans\u001b[39;00m\n\u001b[0;32m---> <a href='vscode-notebook-cell:/Users/shidedehghani/Library/Mobile%20Documents/com~apple~CloudDocs/Research/rLAB/Maryam%27s_repo/reorganized_code_Oct30/group_by_bold.ipynb#ch0000005?line=9'>10</a>\u001b[0m     \u001b[39mif\u001b[39;00m z\u001b[39m==\u001b[39m\u001b[39m0\u001b[39m \u001b[39mand\u001b[39;00m mode \u001b[39m==\u001b[39m \u001b[39m\"\u001b[39m\u001b[39mfound\u001b[39m\u001b[39m\"\u001b[39m:\n\u001b[1;32m     <a href='vscode-notebook-cell:/Users/shidedehghani/Library/Mobile%20Documents/com~apple~CloudDocs/Research/rLAB/Maryam%27s_repo/reorganized_code_Oct30/group_by_bold.ipynb#ch0000005?line=10'>11</a>\u001b[0m         mode \u001b[39m=\u001b[39m \u001b[39m\"\u001b[39m\u001b[39mspanning\u001b[39m\u001b[39m\"\u001b[39m\n",
      "\u001b[0;31mNameError\u001b[0m: name 'mode' is not defined"
     ]
    }
   ],
   "source": [
    "for i in range(start_page, end_page):\n",
    "    page = doc[i]\n",
    "    # read page text as a dictionary, suppressing extra spaces in CJK fonts\n",
    "    flags = 0 | fitz.TEXT_INHIBIT_SPACES | fitz.TEXT_DEHYPHENATE\n",
    "    blocks = page.get_text(\"dict\", flags=flags)[\"blocks\"]\n",
    "    for x,b in enumerate(blocks):  # iterate through the text blocks\n",
    "        br = fitz.Rect(b[\"bbox\"])\n",
    "        #annot = page.add_rect_annot(br)\n",
    "        for y,l in enumerate(b[\"lines\"]):  # iterate through the text lines\n",
    "            lr = fitz.Rect(l[\"bbox\"])\n",
    "            for z,s in enumerate(l[\"spans\"]):  # iterate through the text spans\n",
    "                if z==0 and mode == \"found\":\n",
    "                    mode = \"spanning\""
   ]
  },
  {
   "cell_type": "code",
   "execution_count": null,
   "metadata": {},
   "outputs": [],
   "source": []
  }
 ],
 "metadata": {
  "kernelspec": {
   "display_name": "Python 3.9.15 64-bit",
   "language": "python",
   "name": "python3"
  },
  "language_info": {
   "codemirror_mode": {
    "name": "ipython",
    "version": 3
   },
   "file_extension": ".py",
   "mimetype": "text/x-python",
   "name": "python",
   "nbconvert_exporter": "python",
   "pygments_lexer": "ipython3",
   "version": "3.9.15"
  },
  "orig_nbformat": 4,
  "vscode": {
   "interpreter": {
    "hash": "a665b5d41d17b532ea9890333293a1b812fa0b73c9c25c950b3cedf1bebd0438"
   }
  }
 },
 "nbformat": 4,
 "nbformat_minor": 2
}
