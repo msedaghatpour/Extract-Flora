{
 "cells": [
  {
   "cell_type": "code",
   "execution_count": 1,
   "metadata": {},
   "outputs": [],
   "source": [
    "import io\n",
    "import fitz\n",
    "import re\n",
    "from PIL import Image, ImageDraw, ImageFont, ImageColor\n",
    "import operator\n",
    "import os\n",
    "import pandas as pd \n",
    "import numpy as np\n",
    "from datetime import datetime\n",
    "import math\n",
    "from tqdm import tqdm\n",
    "from PIL import Image\n",
    "from PIL import ImageDraw\n",
    "from PIL import ImageFont"
   ]
  },
  {
   "cell_type": "markdown",
   "metadata": {},
   "source": [
    "# IMPORT BOOK"
   ]
  },
  {
   "cell_type": "code",
   "execution_count": 2,
   "metadata": {},
   "outputs": [],
   "source": [
    "\"\"\"INDEX 1\"\"\"\n",
    "pdf_dir = \"../input/NOUVELLE FLORE DU LIBAN ET DE LA SYRIE 1.pdf\"\n",
    "doc = fitz.open(pdf_dir)\n",
    "pages = [doc[i] for i in range(doc.page_count)]\n",
    "\"\"\"INDEX 1\"\"\"\n",
    "\n",
    "TARGET_DPI = 300\n",
    "mat = fitz.Matrix(TARGET_DPI/ 72, TARGET_DPI/ 72)\n",
    "\n",
    "indent_groups = []\n",
    "indent_err = 15"
   ]
  },
  {
   "cell_type": "markdown",
   "metadata": {},
   "source": [
    "# Helper functions"
   ]
  },
  {
   "cell_type": "code",
   "execution_count": 3,
   "metadata": {},
   "outputs": [],
   "source": [
    "def flags_decomposer(flags):\n",
    "    \"\"\"Make font flags human readable.\"\"\"\n",
    "    l = []\n",
    "    if flags & 2 ** 0:\n",
    "        l.append(\"superscript\")\n",
    "    if flags & 2 ** 1:\n",
    "        l.append(\"italic\")\n",
    "    if flags & 2 ** 2:\n",
    "        l.append(\"serifed\")\n",
    "    else:\n",
    "        l.append(\"sans\")\n",
    "    if flags & 2 ** 3:\n",
    "        l.append(\"monospaced\")\n",
    "    else:\n",
    "        l.append(\"proportional\")\n",
    "    if flags & 2 ** 4:\n",
    "        l.append(\"bold\")\n",
    "    return l"
   ]
  },
  {
   "cell_type": "code",
   "execution_count": 4,
   "metadata": {},
   "outputs": [],
   "source": [
    "def is_author(name):\n",
    "    return False\n",
    "\n",
    "def is_epithet(span): #just checks if is bold\n",
    "    if 'bold' in  flags_decomposer(span['flags']): #binomial species / sub sp description\n",
    "        return True\n",
    "\n",
    "def is_genus(word):\n",
    "    pruned_word = ''.join(c for c in word if c.isalpha())\n",
    "    return len(pruned_word) >= 3 and pruned_word.isupper()\n",
    "\n",
    "def is_family(word):\n",
    "    return is_genus(word)\n",
    "\n",
    "def is_center_aligned(coords):\n",
    "    return False\n",
    "\n",
    "def is_paragraph_start(coords):\n",
    "    return True\n",
    "\n",
    "def is_separate(coords): #vertical / spatial separation of boxes \n",
    "    return True"
   ]
  },
  {
   "cell_type": "markdown",
   "metadata": {},
   "source": [
    "# is_new_entry"
   ]
  },
  {
   "cell_type": "code",
   "execution_count": 5,
   "metadata": {},
   "outputs": [],
   "source": [
    "def is_new_entry(spans, coords, num_words_limit = 6, alignment = None):\n",
    "    words_seen = 0 \n",
    "    start_flag = False\n",
    "\n",
    "    if not is_paragraph_start(coords) or not is_separate(coords):\n",
    "        return False\n",
    "\n",
    "    if is_center_aligned(coords): \n",
    "        return True\n",
    "\n",
    "    while words_seen < num_words_limit: \n",
    "        for s in spans:\n",
    "            s_text_list = s['text'].split(\" \")[:6-words_seen] #making sure we are only working with the first 6 words in this function\n",
    "            words_seen += len(s_text_list)\n",
    "            \n",
    "            print(s)\n",
    "            if is_epithet(s):\n",
    "                return True\n",
    "            else:\n",
    "                for w in s_text_list: \n",
    "                    if (is_genus(w) or is_family(w)) and not is_author(w):\n",
    "                        return True\n",
    "                \n",
    "    return False"
   ]
  },
  {
   "cell_type": "markdown",
   "metadata": {},
   "source": [
    "# Group Blocks"
   ]
  },
  {
   "cell_type": "code",
   "execution_count": 6,
   "metadata": {},
   "outputs": [],
   "source": [
    "colors21 = ['#800000', '#e6194B', '#fabed4', \n",
    "            '#9A6324', '#f58231', '#ffd8b1', '#fffac8', '#ffe119',\n",
    "            '#808000', '#bfef45', '#3cb44b', '#aaffc3', '#469990',\n",
    "            '#42d4f4', '#4363d8', '#000075',\n",
    "            '#911eb4', '#dcbeff', '#f032e6', \n",
    "            '#a9a9a9', '#000000']\n",
    "\n",
    "colors7 = ['#ff0000', '#ffa500', '#ffff00', '#008000', '#0000ff', '#4b0082', '#ee82ee']"
   ]
  },
  {
   "cell_type": "code",
   "execution_count": null,
   "metadata": {},
   "outputs": [],
   "source": []
  }
 ],
 "metadata": {
  "kernelspec": {
   "display_name": "Python 3.9.15 64-bit",
   "language": "python",
   "name": "python3"
  },
  "language_info": {
   "codemirror_mode": {
    "name": "ipython",
    "version": 3
   },
   "file_extension": ".py",
   "mimetype": "text/x-python",
   "name": "python",
   "nbconvert_exporter": "python",
   "pygments_lexer": "ipython3",
   "version": "3.9.15"
  },
  "orig_nbformat": 4,
  "vscode": {
   "interpreter": {
    "hash": "a665b5d41d17b532ea9890333293a1b812fa0b73c9c25c950b3cedf1bebd0438"
   }
  }
 },
 "nbformat": 4,
 "nbformat_minor": 2
}
