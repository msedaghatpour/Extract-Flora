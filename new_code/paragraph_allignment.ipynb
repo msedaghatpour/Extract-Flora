{
 "cells": [
  {
   "cell_type": "code",
   "execution_count": 1,
   "metadata": {},
   "outputs": [],
   "source": [
    "import io\n",
    "import fitz\n",
    "import re\n",
    "from PIL import Image, ImageDraw, ImageFont, ImageColor\n",
    "import operator\n",
    "import os\n",
    "import pandas as pd \n",
    "import numpy as np\n",
    "from datetime import datetime\n",
    "import math\n",
    "from tqdm import tqdm\n",
    "\n",
    "from PIL import Image\n",
    "from PIL import ImageDraw\n",
    "from PIL import ImageFont"
   ]
  },
  {
   "cell_type": "code",
   "execution_count": 2,
   "metadata": {},
   "outputs": [],
   "source": [
    "\"\"\"INDEX 1\"\"\"\n",
    "pdf_dir = \"../input/NOUVELLE FLORE DU LIBAN ET DE LA SYRIE 1.pdf\"\n",
    "doc = fitz.open(pdf_dir)\n",
    "pages = [doc[i] for i in range(doc.page_count)]\n",
    "\"\"\"INDEX 1\"\"\"\n",
    "\n",
    "TARGET_DPI = 300\n",
    "mat = fitz.Matrix(TARGET_DPI/ 72, TARGET_DPI/ 72)\n",
    "\n",
    "indent_groups = []\n",
    "indent_err = 15"
   ]
  },
  {
   "cell_type": "code",
   "execution_count": 4,
   "metadata": {},
   "outputs": [],
   "source": [
    "page_num = 100\n",
    "pix_map = doc.get_page_pixmap(page_num,matrix=mat)\n",
    "image = Image.open(io.BytesIO(pix_map.tobytes()))\n",
    "draw = ImageDraw.Draw(image)\n",
    "image;\n",
    "\n",
    "block_lst = pages[page_num].get_text(\"dict\")['blocks']\n",
    "block_lst[0]['lines'][0]['spans']\n",
    "\n",
    "blank_im = Image.new('RGB', image.size, (255, 255, 255))\n",
    "blank_draw = ImageDraw.Draw(blank_im)\n",
    "dy_block_lst = []\n",
    "x0, y0, x1, y1 = 0, 0, 0, 0\n",
    "myFont = ImageFont.truetype(\"Arial\", 15)\n",
    "g_i = 0\n",
    "#block_lst = dict(block_lst)\n",
    "\n",
    "for b in block_lst:\n",
    "    if b['type'] == 0:\n",
    "        x0_b, y0_b, x1_, y1_b = [coord*TARGET_DPI/ 72 for coord in b['bbox']]\n",
    "        draw.rectangle((x0_b, y0_b, x1_, y1_b), fill=None, outline=ImageColor.getrgb(\"#8100bb\"), width = 1)\n",
    "        blank_draw.rectangle((x0_b, y0_b, x1_, y1_b), fill=None, outline=ImageColor.getrgb(\"#8100bb\"), width = 1)\n",
    "        for l in b['lines']:\n",
    "            #for s in l['spans']:\n",
    "            #    for w in s['text']:\n",
    "            prev_x0, prev_y0, prev_x1, prev_y1 = x0, y0, x1, y1\n",
    "            x0, y0, x1, y1 = [coord*TARGET_DPI/ 72 for coord in l['bbox']]\n",
    "            #print(y0, prev_y1)\n",
    "            w = 1 \n",
    "            if x0 > 300 and x1 < 1400: \n",
    "                w = 5\n",
    "            draw.rectangle((x0, y0, x1, y1), fill=None, outline=ImageColor.getrgb(\"#222222\"), width = w)\n",
    "            dy = y0 - prev_y1\n",
    "            dy_block_lst.append(dy)\n",
    "            blank_draw.rectangle((x0, y0, x1, y1), fill=None, outline=ImageColor.getrgb(\"#222222\"), width = w)\n",
    "            blank_draw.text((20, prev_y1), str(dy), font=myFont, fill =(255, 0, 0))\n",
    "            draw.text((20, prev_y1), str(dy), font=myFont, fill =(255, 0, 0))\n",
    "            \n",
    "            l['line_group'] = g_i\n",
    "            #print(dy)\n",
    "            if prev_y1 == 0 or dy > 15:\n",
    "                g_i += 1\n",
    "\n",
    "            blank_draw.text((prev_x1, prev_y1), str(l['line_group']), font=myFont, fill =(0, 0, 255))\n",
    "            draw.text((prev_x1, prev_y1), str(l['line_group']), font=myFont, fill =(0, 0, 255))"
   ]
  },
  {
   "cell_type": "code",
   "execution_count": null,
   "metadata": {},
   "outputs": [],
   "source": []
  }
 ],
 "metadata": {
  "kernelspec": {
   "display_name": "Python 3.9.13 64-bit",
   "language": "python",
   "name": "python3"
  },
  "language_info": {
   "codemirror_mode": {
    "name": "ipython",
    "version": 3
   },
   "file_extension": ".py",
   "mimetype": "text/x-python",
   "name": "python",
   "nbconvert_exporter": "python",
   "pygments_lexer": "ipython3",
   "version": "3.9.13"
  },
  "orig_nbformat": 4,
  "vscode": {
   "interpreter": {
    "hash": "b0fa6594d8f4cbf19f97940f81e996739fb7646882a419484c72d19e05852a7e"
   }
  }
 },
 "nbformat": 4,
 "nbformat_minor": 2
}
