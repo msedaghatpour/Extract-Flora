{
 "cells": [
  {
   "cell_type": "code",
   "execution_count": 6,
   "metadata": {},
   "outputs": [],
   "source": [
    "import io\n",
    "import fitz\n",
    "import re\n",
    "from PIL import Image, ImageDraw, ImageFont, ImageColor\n",
    "import operator\n",
    "import pandas as pd \n",
    "import numpy as np\n",
    "from datetime import datetime\n",
    "import math\n",
    "from tqdm import tqdm\n",
    "import matplotlib"
   ]
  },
  {
   "cell_type": "code",
   "execution_count": 9,
   "metadata": {},
   "outputs": [],
   "source": [
    "def plot_blocks(page_df, draw, color = '#660044', w = 2):\n",
    "    blocks = page_df['block_no'].unique()\n",
    "    \"\"\"for b in blocks:\n",
    "        lines = page_df[page_df['block_no'] == b]['line_no'].unique()\n",
    "        for l in lines:\n",
    "            cond = (page_df['line_no'] == l) & (page_df['block_no'] == b)\n",
    "            words = page_df[cond]['word_no'].unique()\n",
    "            page_df = page_df.copy()\n",
    "            for w in words:\n",
    "                x0 = page_df[(cond) & (page_df['word_no'] == w)]['x0'].item()\n",
    "                y0 = page_df[(cond) & (page_df['word_no'] == w)]['y0'].item()\n",
    "                x1 = page_df[(cond) & (page_df['word_no'] == w)]['x1'].item()\n",
    "                y1 = page_df[(cond) & (page_df['word_no'] == w)]['y1'].item()\n",
    "                draw.rectangle((x0, y0, x1, y1), fill=None, outline=ImageColor.getrgb(color), width = w)\n",
    "    \"\"\"\n",
    "    for b in blocks:\n",
    "        sub_df = page_df[page_df['block_no'] == b]\n",
    "        x0, y0, x1, y1 = sub_df['x0'].min(), sub_df['y0'].min(), sub_df['x1'].max(), sub_df['y1'].max() \n",
    "        draw.rectangle((x0, y0, x1, y1), fill=None, outline=ImageColor.getrgb(color), width = w)\n",
    "    #for index, row in page_df.iterrows():\n",
    "    #    x0, y0, x1, y1 = row['x0'], row['y0'], row['x1'], row['y1'] \n",
    "    #    draw.rectangle((x0, y0, x1, y1), fill=None, outline=ImageColor.getrgb(color), width = w)"
   ]
  },
  {
   "cell_type": "code",
   "execution_count": 2,
   "metadata": {},
   "outputs": [],
   "source": [
    "pdf_dir = \"../input/NOUVELLE FLORE DU LIBAN ET DE LA SYRIE 3.pdf\"\n",
    "doc = fitz.open(pdf_dir)\n",
    "pages = [doc[i] for i in range(doc.pageCount)]\n",
    "index = list(range(555, 583))\n",
    "\n",
    "TARGET_DPI = 300\n",
    "mat = fitz.Matrix(TARGET_DPI/ 72, TARGET_DPI/ 72)\n",
    "\n",
    "indent_groups = []\n",
    "indent_err = 15"
   ]
  },
  {
   "cell_type": "code",
   "execution_count": 13,
   "metadata": {},
   "outputs": [],
   "source": [
    "def valid(word):\n",
    "    return (not bool(re.search(r\"[0-9]+[,.]?\", word))) and \\\n",
    "            (word != 'NOUVELLE' and word != 'FLORE') and \\\n",
    "            (len(word) > 1 or \\\n",
    "                word == 'x' or word == 'X' or word == '×' or word == r'\\u00D7') and \\\n",
    "            ''.join(e for e in word if e.isalpha()).isalpha()"
   ]
  },
  {
   "cell_type": "code",
   "execution_count": 65,
   "metadata": {},
   "outputs": [],
   "source": [
    "def preprocessing(page_num, indent_err = 15):\n",
    "    \n",
    "    #initiate dataframe\n",
    "    page_df = pd.DataFrame(pages[page_num].get_text_words(), columns =['in_x0', 'in_y0', 'in_x1', 'in_y1', 'word', 'block_no', 'line_no', 'word_no'])\n",
    "    \n",
    "    #add page number to dataframe\n",
    "    page_df['page_num'] = np.array([page_num]*page_df.shape[0])\n",
    "    #initiate all columns that will be added\n",
    "    page_df['genus'] = np.array([np.NaN]*page_df.shape[0])\n",
    "    page_df['draw_genus'] = np.array([np.NaN]*page_df.shape[0])\n",
    "    page_df['epithet'] = np.array([np.NaN]*page_df.shape[0])\n",
    "    page_df['draw_epithet'] = np.array([np.NaN]*page_df.shape[0])\n",
    "    page_df['author'] = np.array([np.NaN]*page_df.shape[0])\n",
    "    page_df['draw_author'] = np.array([np.NaN]*page_df.shape[0])\n",
    "    page_df['infra'] = np.array([np.NaN]*page_df.shape[0])\n",
    "    page_df['draw_infra'] = np.array([np.NaN]*page_df.shape[0])\n",
    "    page_df['taxon rank'] = np.array([np.NaN]*page_df.shape[0])\n",
    "    page_df['error_check'] = np.array([np.NaN]*page_df.shape[0])\n",
    "    #updating coordinates to represent target DPI\n",
    "    page_df['x0'], page_df['y0'], page_df['x1'], page_df['y1'] = page_df['in_x0']*TARGET_DPI/ 72, page_df['in_y0']*TARGET_DPI/ 72, page_df['in_x1']*TARGET_DPI/ 72, page_df['in_y1']*TARGET_DPI/ 72\n",
    "    #get x corner coordinates \n",
    "    x_min = page_df['x0'].min()\n",
    "    x_max = page_df['x1'].max()\n",
    "\n",
    "    #invalid words dataframe -- for error checking\n",
    "    pruned_words_df = page_df[~page_df[\"word\"].apply(valid)].reset_index()\n",
    "    #prune out invalid words (based on function valid)\n",
    "    page_df = page_df[page_df[\"word\"].apply(valid)].reset_index()\n",
    "    \n",
    "    indent_groups = []\n",
    "    blocks = page_df['block_no'].unique()\n",
    "    for b in blocks:\n",
    "        lines = page_df[page_df['block_no'] == b]['line_no'].unique()\n",
    "        for l in lines:\n",
    "            if l == 0:\n",
    "                #reset word_no values (useful for cases where word that was originally at 0th index was pruned out)\n",
    "                cond = (page_df['block_no'] == b) #page_df['line_no'] == l) & \n",
    "                num_words = len(page_df[cond]['word_no'])\n",
    "                page_df.loc[cond, 'word_no'] = np.arange(num_words).astype(int) #this is slowww\n",
    "                #set column number (0 or 1)\n",
    "                x_0 = page_df[cond]['x0'].min()\n",
    "                #THIS DOESN'T WORK AAAA -- issue was with line no thing\n",
    "            if not np.isnan(x_0):\n",
    "                page_df.loc[cond, 'col_no'] = np.array([int(x_0 > ((x_min + x_max) / 2))]*num_words).astype(int)\n",
    "\n",
    "                #initiate indent groups -- only first word should get an indent_group value \n",
    "                new_group = True\n",
    "                for g_i in range(len(indent_groups)):\n",
    "                    g = indent_groups[g_i]\n",
    "                    g_arr = np.array(g)\n",
    "                    if x_0 <= np.mean(g_arr) + indent_err and x_0 >= np.mean(g_arr) - indent_err:\n",
    "                        g.append(x_0)\n",
    "                        new_group = False\n",
    "                        page_df.loc[cond, 'indent_group'] = np.array([g_i]*num_words).astype(int)\n",
    "                if new_group:\n",
    "                    indent_groups.append([x_0])\n",
    "                    g_i = len(indent_groups) - 1\n",
    "                    page_df.loc[cond, 'indent_group'] = np.array([g_i]*num_words).astype(int)\n",
    "            \n",
    "\n",
    "    #return updated page_df, pruned_words_df, indent groups\n",
    "    return  page_df.reset_index()\n",
    "\n",
    "#https://stackoverflow.com/questions/53468558/adding-image-to-pandas-dataframe"
   ]
  },
  {
   "cell_type": "code",
   "execution_count": 66,
   "metadata": {},
   "outputs": [],
   "source": [
    "def n_leftmost_indent(df, n):\n",
    "    \"\"\"return a tuple with at most 3 elements each element itself is a tuple containing indent group, mean, group len\"\"\"\n",
    "    indent_groups = [(g, df[(df['indent_group'] == g) & (df['word_no'] == 0)]['x0'].mean(), len(df[(df['indent_group'] == g) & (df['word_no'] == 0)]['x0'])) for g in df['indent_group'].unique()]\n",
    "    indent_groups.sort(key = lambda x : x[1])\n",
    "    return indent_groups[:n]"
   ]
  },
  {
   "cell_type": "code",
   "execution_count": 67,
   "metadata": {},
   "outputs": [],
   "source": [
    "list(matplotlib.colors.cnames.values());\n"
   ]
  },
  {
   "cell_type": "code",
   "execution_count": 68,
   "metadata": {},
   "outputs": [],
   "source": [
    "def plot_indent_blocks(page_df, draw):\n",
    "    blocks = page_df['block_no'].unique()\n",
    "    \"\"\"for b in blocks:\n",
    "        lines = page_df[page_df['block_no'] == b]['line_no'].unique()\n",
    "        for l in lines:\n",
    "            cond = (page_df['line_no'] == l) & (page_df['block_no'] == b)\n",
    "            words = page_df[cond]['word_no'].unique()\n",
    "            page_df = page_df.copy()\n",
    "            for w in words:\n",
    "                x0 = page_df[(cond) & (page_df['word_no'] == w)]['x0'].item()\n",
    "                y0 = page_df[(cond) & (page_df['word_no'] == w)]['y0'].item()\n",
    "                x1 = page_df[(cond) & (page_df['word_no'] == w)]['x1'].item()\n",
    "                y1 = page_df[(cond) & (page_df['word_no'] == w)]['y1'].item()\n",
    "                draw.rectangle((x0, y0, x1, y1), fill=None, outline=ImageColor.getrgb(color), width = w)\n",
    "    \"\"\"\n",
    "    color_list = ['#f54242', '#f59e42', '#f5e342', '#7bf542', '#42f5b6', '#42d1f5', '#426ff5', '#5d42f5', '#bf42f5', '#f542b3', '#b35959', '#b38659', '#b0b359', '#6eb359', '#59b392', '#59a4b3', '#596bb3', '#7159b3', '#b35998']\n",
    "    \n",
    "    #list(matplotlib.colors.cnames.values())\n",
    "        \n",
    "    for b in blocks:\n",
    "        sub_df = page_df[page_df['block_no'] == b]\n",
    "        g_min, g_max = sub_df['indent_group'].min(), sub_df['indent_group'].max()\n",
    "        g = g_min\n",
    "        \"\"\"if g_min != g_max:\n",
    "            print(g_min, g_max) is only issue with nan so we're good\"\"\"\n",
    "        if not np.isnan(g):\n",
    "            color = color_list[int(g)]\n",
    "        else: \n",
    "            color = '#FFFFFF'\n",
    "        \n",
    "        x0, y0, x1, y1 = sub_df['x0'].min(), sub_df['y0'].min(), sub_df['x1'].max(), sub_df['y1'].max() \n",
    "        draw.rectangle((x0, y0, x1, y1), fill=None, outline=ImageColor.getrgb(color), width = 5)\n",
    "    #for index, row in page_df.iterrows():\n",
    "    #    x0, y0, x1, y1 = row['x0'], row['y0'], row['x1'], row['y1'] \n",
    "    #    draw.rectangle((x0, y0, x1, y1), fill=None, outline=ImageColor.getrgb(color), width = w)"
   ]
  },
  {
   "cell_type": "code",
   "execution_count": 69,
   "metadata": {},
   "outputs": [
    {
     "name": "stderr",
     "output_type": "stream",
     "text": [
      "100%|██████████| 147/147 [01:10<00:00,  2.08it/s]\n"
     ]
    }
   ],
   "source": [
    "result_ims = []\n",
    "df_dict = {}\n",
    "\n",
    "for page_num in tqdm(range(2*doc.pageCount//4, 3*doc.pageCount//4)):\n",
    "    page_df = preprocessing(page_num, indent_err = 30)\n",
    "    df_dict[page_num] = page_df\n",
    "    #pd.DataFrame(pages[page_num].get_text_words(), columns =['in_x0', 'in_y0', 'in_x1', 'in_y1', 'word', 'block_no', 'line_no', 'word_no'])\n",
    "    #page_df['x0'], page_df['y0'], page_df['x1'], page_df['y1'] = page_df['in_x0']*TARGET_DPI/ 72, page_df['in_y0']*TARGET_DPI/ 72, page_df['in_x1']*TARGET_DPI/ 72, page_df['in_y1']*TARGET_DPI/ 72\n",
    "    pix_map = doc.get_page_pixmap(page_num,matrix=mat)\n",
    "    image = Image.open(io.BytesIO(pix_map.tobytes()))\n",
    "    draw = ImageDraw.Draw(image)\n",
    "    plot_indent_blocks(page_df, draw)\n",
    "    result_ims.append(image)\n",
    "\n",
    "#result_ims[0].save(OUTPUT_PATH + 'block_regions_third_quarter.pdf',save_all=True, append_images=result_ims[1:])"
   ]
  },
  {
   "cell_type": "code",
   "execution_count": 70,
   "metadata": {},
   "outputs": [],
   "source": [
    "result_ims[0].save('block_regions_third_quarterV3.pdf',save_all=True, append_images=result_ims[1:])"
   ]
  },
  {
   "cell_type": "code",
   "execution_count": 60,
   "metadata": {},
   "outputs": [
    {
     "data": {
      "text/markdown": [
       "<span style=\"font-family: monospace\">#f54242 <span style=\"color: #f54242\">████████</span></span><br><span style=\"font-family: monospace\">#f59e42 <span style=\"color: #f59e42\">████████</span></span><br><span style=\"font-family: monospace\">#f5e342 <span style=\"color: #f5e342\">████████</span></span><br><span style=\"font-family: monospace\">#7bf542 <span style=\"color: #7bf542\">████████</span></span><br><span style=\"font-family: monospace\">#42f5b6 <span style=\"color: #42f5b6\">████████</span></span><br><span style=\"font-family: monospace\">#42d1f5 <span style=\"color: #42d1f5\">████████</span></span><br><span style=\"font-family: monospace\">#426ff5 <span style=\"color: #426ff5\">████████</span></span><br><span style=\"font-family: monospace\">#5d42f5 <span style=\"color: #5d42f5\">████████</span></span><br><span style=\"font-family: monospace\">#bf42f5 <span style=\"color: #bf42f5\">████████</span></span><br><span style=\"font-family: monospace\">#f542b3 <span style=\"color: #f542b3\">████████</span></span><br><span style=\"font-family: monospace\">#b35959 <span style=\"color: #b35959\">████████</span></span><br><span style=\"font-family: monospace\">#b38659 <span style=\"color: #b38659\">████████</span></span><br><span style=\"font-family: monospace\">#b0b359 <span style=\"color: #b0b359\">████████</span></span><br><span style=\"font-family: monospace\">#6eb359 <span style=\"color: #6eb359\">████████</span></span><br><span style=\"font-family: monospace\">#59b392 <span style=\"color: #59b392\">████████</span></span><br><span style=\"font-family: monospace\">#59a4b3 <span style=\"color: #59a4b3\">████████</span></span><br><span style=\"font-family: monospace\">#596bb3 <span style=\"color: #596bb3\">████████</span></span><br><span style=\"font-family: monospace\">#7159b3 <span style=\"color: #7159b3\">████████</span></span><br><span style=\"font-family: monospace\">#b35998 <span style=\"color: #b35998\">████████</span></span>"
      ],
      "text/plain": [
       "<IPython.core.display.Markdown object>"
      ]
     },
     "metadata": {},
     "output_type": "display_data"
    }
   ],
   "source": [
    "from IPython.display import Markdown, display\n",
    "\n",
    "colors = list(matplotlib.colors.cnames.values())\n",
    "colors = ['#f54242', '#f59e42', '#f5e342', '#7bf542', '#42f5b6', '#42d1f5', '#426ff5', '#5d42f5', '#bf42f5', '#f542b3', '#b35959', '#b38659', '#b0b359', '#6eb359', '#59b392', '#59a4b3', '#596bb3', '#7159b3', '#b35998']\n",
    "\n",
    "display(Markdown('<br>'.join(\n",
    "    f'<span style=\"font-family: monospace\">{color} <span style=\"color: {color}\">████████</span></span>'\n",
    "    for color in colors\n",
    ")))\n",
    "#https://gist.github.com/wmayner/9b099a0e4a5f8e94f0c6ab2f570187a5"
   ]
  },
  {
   "cell_type": "code",
   "execution_count": null,
   "metadata": {},
   "outputs": [],
   "source": []
  }
 ],
 "metadata": {
  "interpreter": {
   "hash": "ac2eaa0ea0ebeafcc7822e65e46aa9d4f966f30b695406963e145ea4a91cd4fc"
  },
  "kernelspec": {
   "display_name": "Python 3.9.5 64-bit",
   "name": "python3"
  },
  "language_info": {
   "codemirror_mode": {
    "name": "ipython",
    "version": 3
   },
   "file_extension": ".py",
   "mimetype": "text/x-python",
   "name": "python",
   "nbconvert_exporter": "python",
   "pygments_lexer": "ipython3",
   "version": "3.9.5"
  },
  "orig_nbformat": 4
 },
 "nbformat": 4,
 "nbformat_minor": 2
}