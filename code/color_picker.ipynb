{
 "cells": [
  {
   "cell_type": "code",
   "execution_count": 1,
   "metadata": {},
   "outputs": [
    {
     "name": "stdout",
     "output_type": "stream",
     "text": [
      "\u001b[38;2;255;128;0m\u001b[48;2;0;30;60m▚▚▚▚▚▚▚▚▚▚██████████████\u001b[0m\n"
     ]
    }
   ],
   "source": [
    "# COLOR STUFF\n",
    "RESET = '\\033[0m'\n",
    "def get_color_escape(r, g, b, background=False):\n",
    "    return '\\033[{};2;{};{};{}m'.format(48 if background else 38, r, g, b)\n",
    "print(get_color_escape(255, 128, 0) \n",
    "      + get_color_escape(00, 30, 60, True)\n",
    "      + \"▚▚▚▚▚▚▚▚▚▚\"\n",
    "      + '██████████████' \n",
    "      + RESET)"
   ]
  },
  {
   "cell_type": "code",
   "execution_count": 2,
   "metadata": {},
   "outputs": [
    {
     "name": "stdout",
     "output_type": "stream",
     "text": [
      "((170, 255, 132), '#aaff84')\n"
     ]
    }
   ],
   "source": [
    "from tkinter import *\n",
    " \n",
    "# importing the choosecolor package\n",
    "from tkinter import colorchooser\n",
    " \n",
    "# Function that will be invoked when the\n",
    "# button will be clicked in the main window\n",
    "def choose_color():\n",
    " \n",
    "    # variable to store hexadecimal code of color\n",
    "    color_code = colorchooser.askcolor(title =\"Choose color\")\n",
    "    print(color_code)\n",
    " \n",
    "root = Tk()\n",
    "button = Button(root, text = \"Select color\",\n",
    "                   command = choose_color)\n",
    "button.pack()\n",
    "root.geometry(\"300x300\")\n",
    "root.mainloop()"
   ]
  },
  {
   "cell_type": "code",
   "execution_count": null,
   "metadata": {},
   "outputs": [],
   "source": []
  }
 ],
 "metadata": {
  "interpreter": {
   "hash": "ac2eaa0ea0ebeafcc7822e65e46aa9d4f966f30b695406963e145ea4a91cd4fc"
  },
  "kernelspec": {
   "display_name": "Python 3.9.5 64-bit",
   "name": "python3"
  },
  "language_info": {
   "codemirror_mode": {
    "name": "ipython",
    "version": 3
   },
   "file_extension": ".py",
   "mimetype": "text/x-python",
   "name": "python",
   "nbconvert_exporter": "python",
   "pygments_lexer": "ipython3",
   "version": "3.9.5"
  },
  "orig_nbformat": 4
 },
 "nbformat": 4,
 "nbformat_minor": 2
}